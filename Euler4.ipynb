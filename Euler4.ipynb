{
 "cells": [
  {
   "cell_type": "markdown",
   "metadata": {},
   "source": [
    "# Euler 4"
   ]
  },
  {
   "cell_type": "markdown",
   "metadata": {},
   "source": [
    "### 4. Largest palindrome product\n",
    "\n",
    "A palindromic number reads the same both ways. The largest palindrome made from the product of two 2-digit numbers is 9009 = 91 × 99.\n",
    "\n",
    "Find the largest palindrome made from the product of two 3-digit numbers."
   ]
  },
  {
   "cell_type": "code",
   "execution_count": 10,
   "metadata": {},
   "outputs": [
    {
     "data": {
      "text/plain": [
       "906609"
      ]
     },
     "execution_count": 10,
     "metadata": {},
     "output_type": "execute_result"
    }
   ],
   "source": [
    "def is_palindrome(number):\n",
    "    text = str(number)\n",
    "    result = text[::-1] == text\n",
    "    return result\n",
    "\n",
    "\n",
    "largest_palindrome = 0\n",
    "for a in range(100,1000):\n",
    "    for b in range(a,1000):\n",
    "        product = a*b\n",
    "        if is_palindrome(product):\n",
    "            if product > largest_palindrome:\n",
    "                largest_palindrome = product\n",
    "\n",
    "largest_palindrome"
   ]
  },
  {
   "cell_type": "markdown",
   "metadata": {},
   "source": [
    "### 5. Smallest multiple\n",
    "\n",
    "2520 is the smallest number that can be divided by each of the numbers from 1 to 10 without any remainder.\n",
    "\n",
    "What is the smallest positive number that is evenly divisible by all of the numbers from 1 to 20?"
   ]
  },
  {
   "cell_type": "code",
   "execution_count": null,
   "metadata": {},
   "outputs": [],
   "source": [
    "factor_product = 1\n",
    "for n in range(20):\n",
    "    if factor_product % n = 0:\n",
    "        for a in range(n):\n",
    "            if "
   ]
  },
  {
   "cell_type": "code",
   "execution_count": 17,
   "metadata": {},
   "outputs": [
    {
     "name": "stdout",
     "output_type": "stream",
     "text": [
      "{4, 6, 8, 9, 10, 12, 14, 15, 16, 18}\n",
      "0.0\n"
     ]
    }
   ],
   "source": [
    "factorial = 1 \n",
    "nonprimeset = set()\n",
    "for n in range(20):\n",
    "    factorial *= n\n",
    "    for i in range(2,n-1):\n",
    "        if n%i == 0:\n",
    "            primeset.add(n)\n",
    "print(primeset)\n",
    "product = factorial\n",
    "for element in primeset:\n",
    "    product = product/element\n",
    "print(product)\n"
   ]
  }
 ],
 "metadata": {
  "kernelspec": {
   "display_name": ".venv",
   "language": "python",
   "name": "python3"
  },
  "language_info": {
   "codemirror_mode": {
    "name": "ipython",
    "version": 3
   },
   "file_extension": ".py",
   "mimetype": "text/x-python",
   "name": "python",
   "nbconvert_exporter": "python",
   "pygments_lexer": "ipython3",
   "version": "3.12.6"
  }
 },
 "nbformat": 4,
 "nbformat_minor": 2
}
